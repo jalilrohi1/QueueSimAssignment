{
  "nbformat": 4,
  "nbformat_minor": 0,
  "metadata": {
    "colab": {
      "provenance": [],
      "authorship_tag": "ABX9TyOiYSnmVvg/OXlM4OuMnYEw",
      "include_colab_link": true
    },
    "kernelspec": {
      "name": "python3",
      "display_name": "Python 3"
    },
    "language_info": {
      "name": "python"
    }
  },
  "cells": [
    {
      "cell_type": "markdown",
      "metadata": {
        "id": "view-in-github",
        "colab_type": "text"
      },
      "source": [
        "<a href=\"https://colab.research.google.com/github/jalilrohi1/QueueSimAssignment/blob/main/colab.ipynb\" target=\"_parent\"><img src=\"https://colab.research.google.com/assets/colab-badge.svg\" alt=\"Open In Colab\"/></a>"
      ]
    },
    {
      "cell_type": "code",
      "source": [
        "!git clone https://github.com/jalilrohi1/QueueSimAssignment.git\n"
      ],
      "metadata": {
        "colab": {
          "base_uri": "https://localhost:8080/"
        },
        "id": "ZF12TAv21f41",
        "outputId": "112e2999-f4b1-4a14-bd91-4f7eb7a72c64"
      },
      "execution_count": null,
      "outputs": [
        {
          "output_type": "stream",
          "name": "stdout",
          "text": [
            "Cloning into 'QueueSimAssignment'...\n",
            "remote: Enumerating objects: 36, done.\u001b[K\n",
            "remote: Counting objects: 100% (36/36), done.\u001b[K\n",
            "remote: Compressing objects: 100% (26/26), done.\u001b[K\n",
            "remote: Total 36 (delta 14), reused 27 (delta 9), pack-reused 0 (from 0)\u001b[K\n",
            "Receiving objects: 100% (36/36), 228.56 KiB | 9.52 MiB/s, done.\n",
            "Resolving deltas: 100% (14/14), done.\n"
          ]
        }
      ]
    },
    {
      "cell_type": "code",
      "source": [
        "%cd /content/QueueSimAssignment\n",
        "!ls"
      ],
      "metadata": {
        "colab": {
          "base_uri": "https://localhost:8080/"
        },
        "id": "hps8MUs14tKv",
        "outputId": "289a01ad-f8d1-4a62-b1a7-f3a7b680169f"
      },
      "execution_count": 29,
      "outputs": [
        {
          "output_type": "stream",
          "name": "stdout",
          "text": [
            "/content/QueueSimAssignment\n",
            "automation   implementation  main\t plot_results  README.md  scripts\n",
            "colab.ipynb  libs\t     mypractice  plots\t       samples\t  storage_sim\n"
          ]
        }
      ]
    },
    {
      "cell_type": "code",
      "source": [
        "!git init\n",
        "!git add .\n",
        "!git commit -m \"colab commit\"\n"
      ],
      "metadata": {
        "id": "vtdza-0LMR7W",
        "outputId": "845a316b-a5a3-42f0-f449-a68de719e27c",
        "colab": {
          "base_uri": "https://localhost:8080/"
        }
      },
      "execution_count": 32,
      "outputs": [
        {
          "output_type": "stream",
          "name": "stdout",
          "text": [
            "Reinitialized existing Git repository in /content/QueueSimAssignment/.git/\n",
            "Author identity unknown\n",
            "\n",
            "*** Please tell me who you are.\n",
            "\n",
            "Run\n",
            "\n",
            "  git config --global user.email \"you@example.com\"\n",
            "  git config --global user.name \"Your Name\"\n",
            "\n",
            "to set your account's default identity.\n",
            "Omit --global to set the identity only in this repository.\n",
            "\n",
            "fatal: unable to auto-detect email address (got 'root@3c9daa1c7432.(none)')\n"
          ]
        }
      ]
    },
    {
      "cell_type": "code",
      "source": [
        "from google.colab import files\n",
        "\n",
        "!zip -r /content/QueueSimAssignment/automation/data.zip /content/QueueSimAssignment/automation/data\n",
        "files.download('/content/QueueSimAssignment/automation/data.zip')"
      ],
      "metadata": {
        "id": "Ul5P5NH5J5hg",
        "outputId": "24f724d7-471c-426d-80ea-5e302c8fe1c8",
        "colab": {
          "base_uri": "https://localhost:8080/",
          "height": 1000
        }
      },
      "execution_count": 9,
      "outputs": [
        {
          "output_type": "stream",
          "name": "stdout",
          "text": [
            "  adding: content/QueueSimAssignment/automation/data/ (stored 0%)\n",
            "  adding: content/QueueSimAssignment/automation/data/weibull_sm_lambd_0.9_d_5_shape_3.csv (deflated 92%)\n",
            "  adding: content/QueueSimAssignment/automation/data/rr_sm_lambd_0.5_d_10_quantum_0.5.csv (deflated 92%)\n",
            "  adding: content/QueueSimAssignment/automation/data/weibull_sm_lambd_0.7_d_10_shape_1.csv (deflated 93%)\n",
            "  adding: content/QueueSimAssignment/automation/data/weibull_sm_lambd_0.99_d_1_shape_1.5.csv (deflated 85%)\n",
            "  adding: content/QueueSimAssignment/automation/data/rr_sm_lambd_0.5_d_1_quantum_0.5.csv (deflated 80%)\n",
            "  adding: content/QueueSimAssignment/automation/data/rr_sm_lambd_0.95_d_5_quantum_1.csv (deflated 90%)\n",
            "  adding: content/QueueSimAssignment/automation/data/rr_sm_lambd_0.95_d_1_quantum_5.csv (deflated 79%)\n",
            "  adding: content/QueueSimAssignment/automation/data/weibull_sm_lambd_0.9_d_5_shape_1.5.csv (deflated 92%)\n",
            "  adding: content/QueueSimAssignment/automation/data/weibull_sm_lambd_0.95_d_5_shape_3.75.csv (deflated 92%)\n",
            "  adding: content/QueueSimAssignment/automation/data/weibull_sm_lambd_0.7_d_5_shape_3.csv (deflated 93%)\n",
            "  adding: content/QueueSimAssignment/automation/data/weibull_sm_lambd_0.95_d_10_shape_1.csv (deflated 93%)\n",
            "  adding: content/QueueSimAssignment/automation/data/weibull_sm_lambd_0.9_d_5_shape_3.75.csv (deflated 92%)\n",
            "  adding: content/QueueSimAssignment/automation/data/weibull_sm_lambd_0.99_d_10_shape_3.csv (deflated 93%)\n",
            "  adding: content/QueueSimAssignment/automation/data/fifo_sm_lambd_0.5_d_5.csv (deflated 91%)\n",
            "  adding: content/QueueSimAssignment/automation/data/fifo_sm_lambd_0.5_d_10.csv (deflated 92%)\n",
            "  adding: content/QueueSimAssignment/automation/data/rr_sm_lambd_0.9_d_10_quantum_5.csv (deflated 91%)\n",
            "  adding: content/QueueSimAssignment/automation/data/weibull_sm_lambd_0.99_d_2_shape_3.75.csv (deflated 91%)\n",
            "  adding: content/QueueSimAssignment/automation/data/fifo_sm_lambd_0.95_d_10.csv (deflated 91%)\n",
            "  adding: content/QueueSimAssignment/automation/data/weibull_sm_lambd_0.5_d_2_shape_3.csv (deflated 93%)\n",
            "  adding: content/QueueSimAssignment/automation/data/weibull_sm_lambd_0.5_d_1_shape_1.csv (deflated 90%)\n",
            "  adding: content/QueueSimAssignment/automation/data/weibull_sm_lambd_0.99_d_10_shape_1.csv (deflated 93%)\n",
            "  adding: content/QueueSimAssignment/automation/data/rr_sm_lambd_0.9_d_5_quantum_5.csv (deflated 90%)\n",
            "  adding: content/QueueSimAssignment/automation/data/rr_sm_lambd_0.95_d_2_quantum_0.5.csv (deflated 86%)\n",
            "  adding: content/QueueSimAssignment/automation/data/rr_sm_lambd_0.5_d_5_quantum_2.csv (deflated 90%)\n",
            "  adding: content/QueueSimAssignment/automation/data/weibull_sm_lambd_0.99_d_5_shape_3.75.csv (deflated 92%)\n",
            "  adding: content/QueueSimAssignment/automation/data/weibull_sm_lambd_0.95_d_10_shape_3.csv (deflated 93%)\n",
            "  adding: content/QueueSimAssignment/automation/data/fifo_sm_lambd_0.7_d_10.csv (deflated 91%)\n",
            "  adding: content/QueueSimAssignment/automation/data/fifo_sm_lambd_0.95_d_5.csv (deflated 90%)\n",
            "  adding: content/QueueSimAssignment/automation/data/rr_sm_lambd_0.7_d_2_quantum_1.csv (deflated 84%)\n",
            "  adding: content/QueueSimAssignment/automation/data/rr_sm_lambd_0.99_d_5_quantum_5.csv (deflated 90%)\n",
            "  adding: content/QueueSimAssignment/automation/data/rr_sm_lambd_0.99_d_2_quantum_5.csv (deflated 87%)\n",
            "  adding: content/QueueSimAssignment/automation/data/weibull_sm_lambd_0.95_d_5_shape_0.5.csv (deflated 93%)\n",
            "  adding: content/QueueSimAssignment/automation/data/weibull_sm_lambd_0.9_d_5_shape_0.5.csv (deflated 93%)\n",
            "  adding: content/QueueSimAssignment/automation/data/weibull_sm_lambd_0.5_d_2_shape_3.75.csv (deflated 93%)\n",
            "  adding: content/QueueSimAssignment/automation/data/rr_sm_lambd_0.9_d_1_quantum_1.csv (deflated 79%)\n",
            "  adding: content/QueueSimAssignment/automation/data/weibull_sm_lambd_0.95_d_1_shape_3.csv (deflated 86%)\n",
            "  adding: content/QueueSimAssignment/automation/data/rr_sm_lambd_0.5_d_2_quantum_0.5.csv (deflated 88%)\n",
            "  adding: content/QueueSimAssignment/automation/data/weibull_sm_lambd_0.7_d_2_shape_3.75.csv (deflated 92%)\n",
            "  adding: content/QueueSimAssignment/automation/data/rr_sm_lambd_0.5_d_5_quantum_5.csv (deflated 91%)\n",
            "  adding: content/QueueSimAssignment/automation/data/rr_sm_lambd_0.7_d_1_quantum_1.csv (deflated 80%)\n",
            "  adding: content/QueueSimAssignment/automation/data/weibull_sm_lambd_0.9_d_10_shape_3.75.csv (deflated 93%)\n",
            "  adding: content/QueueSimAssignment/automation/data/rr_sm_lambd_0.9_d_2_quantum_2.csv (deflated 88%)\n",
            "  adding: content/QueueSimAssignment/automation/data/weibull_sm_lambd_0.7_d_1_shape_3.csv (deflated 88%)\n",
            "  adding: content/QueueSimAssignment/automation/data/weibull_sm_lambd_0.99_d_2_shape_0.5.csv (deflated 92%)\n",
            "  adding: content/QueueSimAssignment/automation/data/rr_sm_lambd_0.7_d_5_quantum_5.csv (deflated 91%)\n",
            "  adding: content/QueueSimAssignment/automation/data/rr_sm_lambd_0.7_d_10_quantum_0.1.csv (deflated 91%)\n",
            "  adding: content/QueueSimAssignment/automation/data/rr_sm_lambd_0.5_d_10_quantum_5.csv (deflated 92%)\n",
            "  adding: content/QueueSimAssignment/automation/data/fifo_sm_lambd_0.9_d_5.csv (deflated 91%)\n",
            "  adding: content/QueueSimAssignment/automation/data/weibull_sm_lambd_0.5_d_1_shape_0.5.csv (deflated 91%)\n",
            "  adding: content/QueueSimAssignment/automation/data/weibull_sm_lambd_0.95_d_1_shape_1.csv (deflated 86%)\n",
            "  adding: content/QueueSimAssignment/automation/data/rr_sm_lambd_0.99_d_2_quantum_2.csv (deflated 85%)\n",
            "  adding: content/QueueSimAssignment/automation/data/weibull_sm_lambd_0.9_d_10_shape_0.5.csv (deflated 93%)\n",
            "  adding: content/QueueSimAssignment/automation/data/rr_sm_lambd_0.5_d_2_quantum_1.csv (deflated 88%)\n",
            "  adding: content/QueueSimAssignment/automation/data/weibull_sm_lambd_0.5_d_10_shape_0.5.csv (deflated 95%)\n",
            "  adding: content/QueueSimAssignment/automation/data/rr_sm_lambd_0.9_d_2_quantum_5.csv (deflated 84%)\n",
            "  adding: content/QueueSimAssignment/automation/data/rr_sm_lambd_0.7_d_10_quantum_2.csv (deflated 91%)\n",
            "  adding: content/QueueSimAssignment/automation/data/weibull_sm_lambd_0.95_d_2_shape_3.csv (deflated 91%)\n",
            "  adding: content/QueueSimAssignment/automation/data/rr_sm_lambd_0.9_d_5_quantum_2.csv (deflated 91%)\n",
            "  adding: content/QueueSimAssignment/automation/data/rr_sm_lambd_0.95_d_2_quantum_5.csv (deflated 85%)\n",
            "  adding: content/QueueSimAssignment/automation/data/weibull_sm_lambd_0.95_d_10_shape_0.5.csv (deflated 93%)\n",
            "  adding: content/QueueSimAssignment/automation/data/weibull_sm_lambd_0.7_d_2_shape_1.csv (deflated 92%)\n",
            "  adding: content/QueueSimAssignment/automation/data/fifo_sm_lambd_0.5_d_1.csv (deflated 80%)\n",
            "  adding: content/QueueSimAssignment/automation/data/rr_sm_lambd_0.5_d_1_quantum_1.csv (deflated 80%)\n",
            "  adding: content/QueueSimAssignment/automation/data/fifo_sm_lambd_0.7_d_2.csv (deflated 88%)\n",
            "  adding: content/QueueSimAssignment/automation/data/rr_sm_lambd_0.7_d_5_quantum_0.1.csv (deflated 91%)\n",
            "  adding: content/QueueSimAssignment/automation/data/weibull_sm_lambd_0.95_d_10_shape_3.75.csv (deflated 93%)\n",
            "  adding: content/QueueSimAssignment/automation/data/rr_sm_lambd_0.7_d_1_quantum_2.csv (deflated 80%)\n",
            "  adding: content/QueueSimAssignment/automation/data/rr_sm_lambd_0.5_d_10_quantum_1.csv (deflated 91%)\n",
            "  adding: content/QueueSimAssignment/automation/data/fifo_sm_lambd_0.5_d_2.csv (deflated 88%)\n",
            "  adding: content/QueueSimAssignment/automation/data/weibull_sm_lambd_0.95_d_10_shape_1.5.csv (deflated 93%)\n",
            "  adding: content/QueueSimAssignment/automation/data/rr_sm_lambd_0.7_d_2_quantum_2.csv (deflated 88%)\n",
            "  adding: content/QueueSimAssignment/automation/data/weibull_sm_lambd_0.9_d_10_shape_1.csv (deflated 93%)\n",
            "  adding: content/QueueSimAssignment/automation/data/weibull_sm_lambd_0.7_d_2_shape_0.5.csv (deflated 93%)\n",
            "  adding: content/QueueSimAssignment/automation/data/weibull_sm_lambd_0.7_d_10_shape_0.5.csv (deflated 94%)\n",
            "  adding: content/QueueSimAssignment/automation/data/rr_sm_lambd_0.95_d_5_quantum_0.1.csv (deflated 90%)\n",
            "  adding: content/QueueSimAssignment/automation/data/weibull_sm_lambd_0.99_d_5_shape_3.csv (deflated 92%)\n",
            "  adding: content/QueueSimAssignment/automation/data/rr_sm_lambd_0.7_d_2_quantum_5.csv (deflated 88%)\n",
            "  adding: content/QueueSimAssignment/automation/data/weibull_sm_lambd_0.99_d_1_shape_3.csv (deflated 86%)\n",
            "  adding: content/QueueSimAssignment/automation/data/weibull_sm_lambd_0.7_d_10_shape_1.5.csv (deflated 93%)\n",
            "  adding: content/QueueSimAssignment/automation/data/rr_sm_lambd_0.7_d_1_quantum_0.1.csv (deflated 80%)\n",
            "  adding: content/QueueSimAssignment/automation/data/rr_sm_lambd_0.95_d_1_quantum_0.5.csv (deflated 79%)\n",
            "  adding: content/QueueSimAssignment/automation/data/weibull_sm_lambd_0.9_d_2_shape_1.5.csv (deflated 91%)\n",
            "  adding: content/QueueSimAssignment/automation/data/weibull_sm_lambd_0.5_d_10_shape_3.csv (deflated 94%)\n",
            "  adding: content/QueueSimAssignment/automation/data/rr_sm_lambd_0.99_d_10_quantum_0.1.csv (deflated 91%)\n",
            "  adding: content/QueueSimAssignment/automation/data/fifo_sm_lambd_0.95_d_2.csv (deflated 87%)\n",
            "  adding: content/QueueSimAssignment/automation/data/rr_sm_lambd_0.99_d_1_quantum_1.csv (deflated 79%)\n",
            "  adding: content/QueueSimAssignment/automation/data/weibull_sm_lambd_0.9_d_10_shape_3.csv (deflated 93%)\n",
            "  adding: content/QueueSimAssignment/automation/data/weibull_sm_lambd_0.99_d_10_shape_0.5.csv (deflated 93%)\n",
            "  adding: content/QueueSimAssignment/automation/data/rr_sm_lambd_0.95_d_1_quantum_2.csv (deflated 79%)\n",
            "  adding: content/QueueSimAssignment/automation/data/weibull_sm_lambd_0.7_d_10_shape_3.csv (deflated 93%)\n",
            "  adding: content/QueueSimAssignment/automation/data/rr_sm_lambd_0.5_d_5_quantum_1.csv (deflated 91%)\n",
            "  adding: content/QueueSimAssignment/automation/data/weibull_sm_lambd_0.5_d_2_shape_0.5.csv (deflated 94%)\n",
            "  adding: content/QueueSimAssignment/automation/data/rr_sm_lambd_0.9_d_1_quantum_2.csv (deflated 79%)\n",
            "  adding: content/QueueSimAssignment/automation/data/rr_sm_lambd_0.99_d_5_quantum_1.csv (deflated 90%)\n",
            "  adding: content/QueueSimAssignment/automation/data/rr_sm_lambd_0.99_d_1_quantum_2.csv (deflated 78%)\n",
            "  adding: content/QueueSimAssignment/automation/data/rr_sm_lambd_0.5_d_10_quantum_0.1.csv (deflated 91%)\n",
            "  adding: content/QueueSimAssignment/automation/data/weibull_sm_lambd_0.7_d_5_shape_3.75.csv (deflated 93%)\n",
            "  adding: content/QueueSimAssignment/automation/data/weibull_sm_lambd_0.7_d_1_shape_3.75.csv (deflated 88%)\n",
            "  adding: content/QueueSimAssignment/automation/data/weibull_sm_lambd_0.5_d_2_shape_1.csv (deflated 93%)\n",
            "  adding: content/QueueSimAssignment/automation/data/weibull_sm_lambd_0.5_d_10_shape_3.75.csv (deflated 94%)\n",
            "  adding: content/QueueSimAssignment/automation/data/rr_sm_lambd_0.9_d_5_quantum_1.csv (deflated 90%)\n",
            "  adding: content/QueueSimAssignment/automation/data/weibull_sm_lambd_0.5_d_5_shape_0.5.csv (deflated 94%)\n",
            "  adding: content/QueueSimAssignment/automation/data/weibull_sm_lambd_0.5_d_1_shape_3.75.csv (deflated 90%)\n",
            "  adding: content/QueueSimAssignment/automation/data/weibull_sm_lambd_0.95_d_1_shape_0.5.csv (deflated 87%)\n",
            "  adding: content/QueueSimAssignment/automation/data/rr_sm_lambd_0.5_d_1_quantum_5.csv (deflated 80%)\n",
            "  adding: content/QueueSimAssignment/automation/data/weibull_sm_lambd_0.9_d_1_shape_1.5.csv (deflated 86%)\n",
            "  adding: content/QueueSimAssignment/automation/data/weibull_sm_lambd_0.99_d_10_shape_1.5.csv (deflated 93%)\n",
            "  adding: content/QueueSimAssignment/automation/data/rr_sm_lambd_0.99_d_1_quantum_5.csv (deflated 79%)\n",
            "  adding: content/QueueSimAssignment/automation/data/rr_sm_lambd_0.5_d_2_quantum_2.csv (deflated 88%)\n",
            "  adding: content/QueueSimAssignment/automation/data/rr_sm_lambd_0.99_d_5_quantum_2.csv (deflated 90%)\n",
            "  adding: content/QueueSimAssignment/automation/data/rr_sm_lambd_0.99_d_1_quantum_0.1.csv (deflated 79%)\n",
            "  adding: content/QueueSimAssignment/automation/data/weibull_sm_lambd_0.5_d_10_shape_1.5.csv (deflated 94%)\n",
            "  adding: content/QueueSimAssignment/automation/data/weibull_sm_lambd_0.7_d_2_shape_3.csv (deflated 92%)\n",
            "  adding: content/QueueSimAssignment/automation/data/rr_sm_lambd_0.9_d_1_quantum_5.csv (deflated 79%)\n",
            "  adding: content/QueueSimAssignment/automation/data/fifo_sm_lambd_0.99_d_5.csv (deflated 91%)\n",
            "  adding: content/QueueSimAssignment/automation/data/rr_sm_lambd_0.95_d_2_quantum_1.csv (deflated 87%)\n",
            "  adding: content/QueueSimAssignment/automation/data/rr_sm_lambd_0.95_d_2_quantum_0.1.csv (deflated 87%)\n",
            "  adding: content/QueueSimAssignment/automation/data/weibull_sm_lambd_0.5_d_1_shape_3.csv (deflated 90%)\n",
            "  adding: content/QueueSimAssignment/automation/data/rr_sm_lambd_0.95_d_5_quantum_2.csv (deflated 90%)\n",
            "  adding: content/QueueSimAssignment/automation/data/rr_sm_lambd_0.7_d_5_quantum_1.csv (deflated 91%)\n",
            "  adding: content/QueueSimAssignment/automation/data/weibull_sm_lambd_0.99_d_2_shape_3.csv (deflated 91%)\n",
            "  adding: content/QueueSimAssignment/automation/data/rr_sm_lambd_0.7_d_1_quantum_5.csv (deflated 80%)\n",
            "  adding: content/QueueSimAssignment/automation/data/rr_sm_lambd_0.95_d_2_quantum_2.csv (deflated 85%)\n",
            "  adding: content/QueueSimAssignment/automation/data/rr_sm_lambd_0.9_d_2_quantum_1.csv (deflated 84%)\n",
            "  adding: content/QueueSimAssignment/automation/data/weibull_sm_lambd_0.99_d_5_shape_1.csv (deflated 92%)\n",
            "  adding: content/QueueSimAssignment/automation/data/weibull_sm_lambd_0.95_d_1_shape_1.5.csv (deflated 86%)\n",
            "  adding: content/QueueSimAssignment/automation/data/rr_sm_lambd_0.9_d_10_quantum_0.5.csv (deflated 91%)\n",
            "  adding: content/QueueSimAssignment/automation/data/rr_sm_lambd_0.9_d_2_quantum_0.1.csv (deflated 84%)\n",
            "  adding: content/QueueSimAssignment/automation/data/rr_sm_lambd_0.95_d_10_quantum_1.csv (deflated 91%)\n",
            "  adding: content/QueueSimAssignment/automation/data/rr_sm_lambd_0.7_d_10_quantum_1.csv (deflated 92%)\n",
            "  adding: content/QueueSimAssignment/automation/data/weibull_sm_lambd_0.99_d_2_shape_1.5.csv (deflated 91%)\n",
            "  adding: content/QueueSimAssignment/automation/data/rr_sm_lambd_0.7_d_10_quantum_5.csv (deflated 91%)\n",
            "  adding: content/QueueSimAssignment/automation/data/rr_sm_lambd_0.95_d_10_quantum_2.csv (deflated 92%)\n",
            "  adding: content/QueueSimAssignment/automation/data/rr_sm_lambd_0.5_d_1_quantum_0.1.csv (deflated 80%)\n",
            "  adding: content/QueueSimAssignment/automation/data/fifo_sm_lambd_0.7_d_5.csv (deflated 90%)\n",
            "  adding: content/QueueSimAssignment/automation/data/weibull_sm_lambd_0.95_d_5_shape_1.5.csv (deflated 92%)\n",
            "  adding: content/QueueSimAssignment/automation/data/weibull_sm_lambd_0.7_d_5_shape_1.5.csv (deflated 93%)\n",
            "  adding: content/QueueSimAssignment/automation/data/rr_sm_lambd_0.95_d_5_quantum_5.csv (deflated 90%)\n",
            "  adding: content/QueueSimAssignment/automation/data/weibull_sm_lambd_0.7_d_1_shape_1.5.csv (deflated 88%)\n",
            "  adding: content/QueueSimAssignment/automation/data/rr_sm_lambd_0.95_d_1_quantum_1.csv (deflated 79%)\n",
            "  adding: content/QueueSimAssignment/automation/data/weibull_sm_lambd_0.5_d_2_shape_1.5.csv (deflated 93%)\n",
            "  adding: content/QueueSimAssignment/automation/data/rr_sm_lambd_0.99_d_1_quantum_0.5.csv (deflated 79%)\n",
            "  adding: content/QueueSimAssignment/automation/data/weibull_sm_lambd_0.5_d_1_shape_1.5.csv (deflated 90%)\n",
            "  adding: content/QueueSimAssignment/automation/data/fifo_sm_lambd_0.7_d_1.csv (deflated 79%)\n",
            "  adding: content/QueueSimAssignment/automation/data/rr_sm_lambd_0.7_d_1_quantum_0.5.csv (deflated 80%)\n",
            "  adding: content/QueueSimAssignment/automation/data/rr_sm_lambd_0.9_d_10_quantum_0.1.csv (deflated 91%)\n",
            "  adding: content/QueueSimAssignment/automation/data/rr_sm_lambd_0.99_d_10_quantum_1.csv (deflated 92%)\n",
            "  adding: content/QueueSimAssignment/automation/data/fifo_sm_lambd_0.9_d_2.csv (deflated 84%)\n",
            "  adding: content/QueueSimAssignment/automation/data/weibull_sm_lambd_0.95_d_5_shape_1.csv (deflated 92%)\n",
            "  adding: content/QueueSimAssignment/automation/data/rr_sm_lambd_0.99_d_10_quantum_5.csv (deflated 91%)\n",
            "  adding: content/QueueSimAssignment/automation/data/rr_sm_lambd_0.95_d_10_quantum_5.csv (deflated 91%)\n",
            "  adding: content/QueueSimAssignment/automation/data/rr_sm_lambd_0.95_d_10_quantum_0.1.csv (deflated 91%)\n",
            "  adding: content/QueueSimAssignment/automation/data/weibull_sm_lambd_0.9_d_2_shape_3.75.csv (deflated 91%)\n",
            "  adding: content/QueueSimAssignment/automation/data/weibull_sm_lambd_0.9_d_1_shape_1.csv (deflated 87%)\n",
            "  adding: content/QueueSimAssignment/automation/data/rr_sm_lambd_0.7_d_2_quantum_0.1.csv (deflated 85%)\n",
            "  adding: content/QueueSimAssignment/automation/data/weibull_sm_lambd_0.5_d_5_shape_1.csv (deflated 94%)\n",
            "  adding: content/QueueSimAssignment/automation/data/weibull_sm_lambd_0.95_d_2_shape_0.5.csv (deflated 92%)\n",
            "  adding: content/QueueSimAssignment/automation/data/weibull_sm_lambd_0.9_d_1_shape_0.5.csv (deflated 88%)\n",
            "  adding: content/QueueSimAssignment/automation/data/weibull_sm_lambd_0.5_d_10_shape_1.csv (deflated 94%)\n",
            "  adding: content/QueueSimAssignment/automation/data/weibull_sm_lambd_0.95_d_2_shape_1.csv (deflated 91%)\n",
            "  adding: content/QueueSimAssignment/automation/data/weibull_sm_lambd_0.9_d_5_shape_1.csv (deflated 92%)\n",
            "  adding: content/QueueSimAssignment/automation/data/rr_sm_lambd_0.95_d_5_quantum_0.5.csv (deflated 90%)\n",
            "  adding: content/QueueSimAssignment/automation/data/weibull_sm_lambd_0.99_d_2_shape_1.csv (deflated 91%)\n",
            "  adding: content/QueueSimAssignment/automation/data/weibull_sm_lambd_0.7_d_2_shape_1.5.csv (deflated 92%)\n",
            "  adding: content/QueueSimAssignment/automation/data/rr_sm_lambd_0.9_d_10_quantum_2.csv (deflated 91%)\n",
            "  adding: content/QueueSimAssignment/automation/data/weibull_sm_lambd_0.5_d_5_shape_1.5.csv (deflated 94%)\n",
            "  adding: content/QueueSimAssignment/automation/data/fifo_sm_lambd_0.99_d_1.csv (deflated 79%)\n",
            "  adding: content/QueueSimAssignment/automation/data/weibull_sm_lambd_0.9_d_1_shape_3.csv (deflated 86%)\n",
            "  adding: content/QueueSimAssignment/automation/data/weibull_sm_lambd_0.95_d_2_shape_3.75.csv (deflated 91%)\n",
            "  adding: content/QueueSimAssignment/automation/data/rr_sm_lambd_0.7_d_5_quantum_2.csv (deflated 90%)\n",
            "  adding: content/QueueSimAssignment/automation/data/rr_sm_lambd_0.9_d_5_quantum_0.5.csv (deflated 90%)\n",
            "  adding: content/QueueSimAssignment/automation/data/weibull_sm_lambd_0.5_d_5_shape_3.csv (deflated 94%)\n",
            "  adding: content/QueueSimAssignment/automation/data/rr_sm_lambd_0.7_d_5_quantum_0.5.csv (deflated 90%)\n",
            "  adding: content/QueueSimAssignment/automation/data/weibull_sm_lambd_0.9_d_2_shape_3.csv (deflated 91%)\n",
            "  adding: content/QueueSimAssignment/automation/data/weibull_sm_lambd_0.7_d_1_shape_1.csv (deflated 88%)\n",
            "  adding: content/QueueSimAssignment/automation/data/weibull_sm_lambd_0.99_d_1_shape_1.csv (deflated 86%)\n",
            "  adding: content/QueueSimAssignment/automation/data/weibull_sm_lambd_0.99_d_1_shape_0.5.csv (deflated 87%)\n",
            "  adding: content/QueueSimAssignment/automation/data/weibull_sm_lambd_0.99_d_5_shape_1.5.csv (deflated 92%)\n",
            "  adding: content/QueueSimAssignment/automation/data/rr_sm_lambd_0.5_d_10_quantum_2.csv (deflated 92%)\n",
            "  adding: content/QueueSimAssignment/automation/data/weibull_sm_lambd_0.9_d_1_shape_3.75.csv (deflated 86%)\n",
            "  adding: content/QueueSimAssignment/automation/data/rr_sm_lambd_0.99_d_2_quantum_1.csv (deflated 85%)\n",
            "  adding: content/QueueSimAssignment/automation/data/rr_sm_lambd_0.99_d_5_quantum_0.5.csv (deflated 90%)\n",
            "  adding: content/QueueSimAssignment/automation/data/rr_sm_lambd_0.99_d_10_quantum_2.csv (deflated 91%)\n",
            "  adding: content/QueueSimAssignment/automation/data/weibull_sm_lambd_0.95_d_1_shape_3.75.csv (deflated 86%)\n",
            "  adding: content/QueueSimAssignment/automation/data/rr_sm_lambd_0.99_d_10_quantum_0.5.csv (deflated 91%)\n",
            "  adding: content/QueueSimAssignment/automation/data/weibull_sm_lambd_0.7_d_1_shape_0.5.csv (deflated 89%)\n",
            "  adding: content/QueueSimAssignment/automation/data/rr_sm_lambd_0.5_d_2_quantum_0.1.csv (deflated 88%)\n",
            "  adding: content/QueueSimAssignment/automation/data/rr_sm_lambd_0.5_d_5_quantum_0.1.csv (deflated 91%)\n",
            "  adding: content/QueueSimAssignment/automation/data/weibull_sm_lambd_0.9_d_10_shape_1.5.csv (deflated 93%)\n",
            "  adding: content/QueueSimAssignment/automation/data/weibull_sm_lambd_0.99_d_10_shape_3.75.csv (deflated 93%)\n",
            "  adding: content/QueueSimAssignment/automation/data/rr_sm_lambd_0.5_d_5_quantum_0.5.csv (deflated 91%)\n",
            "  adding: content/QueueSimAssignment/automation/data/rr_sm_lambd_0.9_d_5_quantum_0.1.csv (deflated 91%)\n",
            "  adding: content/QueueSimAssignment/automation/data/weibull_sm_lambd_0.99_d_1_shape_3.75.csv (deflated 86%)\n",
            "  adding: content/QueueSimAssignment/automation/data/rr_sm_lambd_0.99_d_2_quantum_0.1.csv (deflated 86%)\n",
            "  adding: content/QueueSimAssignment/automation/data/weibull_sm_lambd_0.9_d_2_shape_1.csv (deflated 91%)\n",
            "  adding: content/QueueSimAssignment/automation/data/rr_sm_lambd_0.95_d_10_quantum_0.5.csv (deflated 91%)\n",
            "  adding: content/QueueSimAssignment/automation/data/weibull_sm_lambd_0.7_d_10_shape_3.75.csv (deflated 93%)\n",
            "  adding: content/QueueSimAssignment/automation/data/weibull_sm_lambd_0.5_d_5_shape_3.75.csv (deflated 94%)\n",
            "  adding: content/QueueSimAssignment/automation/data/rr_sm_lambd_0.7_d_2_quantum_0.5.csv (deflated 85%)\n",
            "  adding: content/QueueSimAssignment/automation/data/rr_sm_lambd_0.5_d_1_quantum_2.csv (deflated 80%)\n",
            "  adding: content/QueueSimAssignment/automation/data/rr_sm_lambd_0.9_d_2_quantum_0.5.csv (deflated 88%)\n",
            "  adding: content/QueueSimAssignment/automation/data/weibull_sm_lambd_0.7_d_5_shape_1.csv (deflated 93%)\n",
            "  adding: content/QueueSimAssignment/automation/data/weibull_sm_lambd_0.99_d_5_shape_0.5.csv (deflated 93%)\n",
            "  adding: content/QueueSimAssignment/automation/data/rr_sm_lambd_0.99_d_2_quantum_0.5.csv (deflated 87%)\n",
            "  adding: content/QueueSimAssignment/automation/data/weibull_sm_lambd_0.95_d_5_shape_3.csv (deflated 92%)\n",
            "  adding: content/QueueSimAssignment/automation/data/rr_sm_lambd_0.99_d_5_quantum_0.1.csv (deflated 90%)\n",
            "  adding: content/QueueSimAssignment/automation/data/weibull_sm_lambd_0.7_d_5_shape_0.5.csv (deflated 94%)\n",
            "  adding: content/QueueSimAssignment/automation/data/rr_sm_lambd_0.9_d_10_quantum_1.csv (deflated 91%)\n",
            "  adding: content/QueueSimAssignment/automation/data/rr_sm_lambd_0.9_d_1_quantum_0.5.csv (deflated 79%)\n",
            "  adding: content/QueueSimAssignment/automation/data/fifo_sm_lambd_0.99_d_10.csv (deflated 91%)\n",
            "  adding: content/QueueSimAssignment/automation/data/rr_sm_lambd_0.95_d_1_quantum_0.1.csv (deflated 79%)\n",
            "  adding: content/QueueSimAssignment/automation/data/rr_sm_lambd_0.7_d_10_quantum_0.5.csv (deflated 92%)\n",
            "  adding: content/QueueSimAssignment/automation/data/weibull_sm_lambd_0.9_d_2_shape_0.5.csv (deflated 92%)\n",
            "  adding: content/QueueSimAssignment/automation/data/rr_sm_lambd_0.9_d_1_quantum_0.1.csv (deflated 79%)\n",
            "  adding: content/QueueSimAssignment/automation/data/weibull_sm_lambd_0.95_d_2_shape_1.5.csv (deflated 91%)\n",
            "  adding: content/QueueSimAssignment/automation/data/fifo_sm_lambd_0.9_d_10.csv (deflated 91%)\n",
            "  adding: content/QueueSimAssignment/automation/data/fifo_sm_lambd_0.99_d_2.csv (deflated 87%)\n",
            "  adding: content/QueueSimAssignment/automation/data/fifo_sm_lambd_0.9_d_1.csv (deflated 79%)\n",
            "  adding: content/QueueSimAssignment/automation/data/rr_sm_lambd_0.5_d_2_quantum_5.csv (deflated 88%)\n",
            "  adding: content/QueueSimAssignment/automation/data/fifo_sm_lambd_0.95_d_1.csv (deflated 79%)\n"
          ]
        },
        {
          "output_type": "display_data",
          "data": {
            "text/plain": [
              "<IPython.core.display.Javascript object>"
            ],
            "application/javascript": [
              "\n",
              "    async function download(id, filename, size) {\n",
              "      if (!google.colab.kernel.accessAllowed) {\n",
              "        return;\n",
              "      }\n",
              "      const div = document.createElement('div');\n",
              "      const label = document.createElement('label');\n",
              "      label.textContent = `Downloading \"${filename}\": `;\n",
              "      div.appendChild(label);\n",
              "      const progress = document.createElement('progress');\n",
              "      progress.max = size;\n",
              "      div.appendChild(progress);\n",
              "      document.body.appendChild(div);\n",
              "\n",
              "      const buffers = [];\n",
              "      let downloaded = 0;\n",
              "\n",
              "      const channel = await google.colab.kernel.comms.open(id);\n",
              "      // Send a message to notify the kernel that we're ready.\n",
              "      channel.send({})\n",
              "\n",
              "      for await (const message of channel.messages) {\n",
              "        // Send a message to notify the kernel that we're ready.\n",
              "        channel.send({})\n",
              "        if (message.buffers) {\n",
              "          for (const buffer of message.buffers) {\n",
              "            buffers.push(buffer);\n",
              "            downloaded += buffer.byteLength;\n",
              "            progress.value = downloaded;\n",
              "          }\n",
              "        }\n",
              "      }\n",
              "      const blob = new Blob(buffers, {type: 'application/binary'});\n",
              "      const a = document.createElement('a');\n",
              "      a.href = window.URL.createObjectURL(blob);\n",
              "      a.download = filename;\n",
              "      div.appendChild(a);\n",
              "      a.click();\n",
              "      div.remove();\n",
              "    }\n",
              "  "
            ]
          },
          "metadata": {}
        },
        {
          "output_type": "display_data",
          "data": {
            "text/plain": [
              "<IPython.core.display.Javascript object>"
            ],
            "application/javascript": [
              "download(\"download_58d05b12-08cb-4f7b-b324-7b6c5bb01c8d\", \"data.zip\", 26916231)"
            ]
          },
          "metadata": {}
        }
      ]
    },
    {
      "cell_type": "code",
      "source": [
        "!git commit -m \"commit from colab\""
      ],
      "metadata": {
        "id": "2J8w5wAJI3oV",
        "outputId": "8c57ffba-e864-4fc7-ec62-f18b25b64aab",
        "colab": {
          "base_uri": "https://localhost:8080/"
        }
      },
      "execution_count": 8,
      "outputs": [
        {
          "output_type": "stream",
          "name": "stdout",
          "text": [
            "Author identity unknown\n",
            "\n",
            "*** Please tell me who you are.\n",
            "\n",
            "Run\n",
            "\n",
            "  git config --global user.email \"you@example.com\"\n",
            "  git config --global user.name \"Your Name\"\n",
            "\n",
            "to set your account's default identity.\n",
            "Omit --global to set the identity only in this repository.\n",
            "\n",
            "fatal: unable to auto-detect email address (got 'root@3c9daa1c7432.(none)')\n"
          ]
        }
      ]
    },
    {
      "cell_type": "code",
      "source": [
        "!python queue_sim1.py --lambd 0.7 --mu 1 --n 10 --d 1 --max-t 100_000"
      ],
      "metadata": {
        "id": "_lmwwMCb5BfC",
        "colab": {
          "base_uri": "https://localhost:8080/"
        },
        "outputId": "4b3783d1-0a11-4af5-d1e8-2de7ae14ba91"
      },
      "execution_count": null,
      "outputs": [
        {
          "output_type": "stream",
          "name": "stdout",
          "text": [
            "Average time spent in the system: 3.28752030353709\n",
            "Theoretical expectation for random server choice (d=1): 3.333333333333333\n"
          ]
        }
      ]
    },
    {
      "source": [
        "import re\n",
        "import subprocess\n",
        "import matplotlib.pyplot as plt\n",
        "\n",
        "# Run the command and capture the output\n",
        "process = subprocess.run(['python', 'queue_sim.py', '--lambd', '0.7', '--mu', '1', '--n', '10', '--d', '1', '--max-t', '100_000'], capture_output=True, text=True)\n",
        "output = process.stdout\n",
        "\n",
        "# Extract relevant data using regular expressions (adjust patterns as needed)\n",
        "avg_time_match = re.search(r\"Average time spent in the system: (\\d+\\.\\d+)\", output)\n",
        "theoretical_time_match = re.search(r\"Theoretical expectation.*: (\\d+\\.\\d+)\", output)\n",
        "\n",
        "if avg_time_match and theoretical_time_match:\n",
        "    avg_time = float(avg_time_match.group(1))\n",
        "    theoretical_time = float(theoretical_time_match.group(1))\n",
        "\n",
        "    # Create a bar chart\n",
        "    plt.bar(['Simulated', 'Theoretical'], [avg_time, theoretical_time])\n",
        "    plt.ylabel('Average Time in System')\n",
        "    plt.title('Comparison of Simulated and Theoretical Average Times')\n",
        "    plt.show()\n",
        "else:\n",
        "    print(\"Could not extract data from the output.\")"
      ],
      "cell_type": "code",
      "metadata": {
        "id": "YfyPEZZuuMxn",
        "outputId": "74dc5b5b-4dd5-454d-8c04-290e40c938a5",
        "colab": {
          "base_uri": "https://localhost:8080/",
          "height": 452
        }
      },
      "execution_count": null,
      "outputs": [
        {
          "output_type": "display_data",
          "data": {
            "text/plain": [
              "<Figure size 640x480 with 1 Axes>"
            ],
            "image/png": "[encoded data removed]"
          },
          "metadata": {}
        }
      ]
    },
    {
      "cell_type": "code",
      "source": [
        "for i in range(10):\n",
        "  !python queue_sim1.py --lambd 0.7 --mu 1 --n 10 --d 1 --max-t 100_000\n",
        "  print(f\"Iteration {i+1} completed.\")"
      ],
      "metadata": {
        "colab": {
          "base_uri": "https://localhost:8080/"
        },
        "id": "GA0vpK1YDrkE",
        "outputId": "75cc96aa-6a2e-4553-9086-f3717a3463bc"
      },
      "execution_count": null,
      "outputs": [
        {
          "output_type": "stream",
          "name": "stdout",
          "text": [
            "Average time spent in the system: 3.348751969357845\n",
            "Theoretical expectation for random server choice (d=1): 3.333333333333333\n",
            "Iteration 1 completed.\n",
            "Average time spent in the system: 3.300498842471688\n",
            "Theoretical expectation for random server choice (d=1): 3.333333333333333\n",
            "Iteration 2 completed.\n",
            "Average time spent in the system: 3.3331977995850317\n",
            "Theoretical expectation for random server choice (d=1): 3.333333333333333\n",
            "Iteration 3 completed.\n",
            "Average time spent in the system: 3.305235344660472\n",
            "Theoretical expectation for random server choice (d=1): 3.333333333333333\n",
            "Iteration 4 completed.\n",
            "Average time spent in the system: 3.333659124201747\n",
            "Theoretical expectation for random server choice (d=1): 3.333333333333333\n",
            "Iteration 5 completed.\n",
            "Average time spent in the system: 3.2952658760516944\n",
            "Theoretical expectation for random server choice (d=1): 3.333333333333333\n",
            "Iteration 6 completed.\n",
            "Average time spent in the system: 3.347445975135951\n",
            "Theoretical expectation for random server choice (d=1): 3.333333333333333\n",
            "Iteration 7 completed.\n",
            "Average time spent in the system: 3.3562219024570763\n",
            "Theoretical expectation for random server choice (d=1): 3.333333333333333\n",
            "Iteration 8 completed.\n",
            "Average time spent in the system: 3.3011753872680663\n",
            "Theoretical expectation for random server choice (d=1): 3.333333333333333\n",
            "Iteration 9 completed.\n",
            "Average time spent in the system: 3.3117881109038176\n",
            "Theoretical expectation for random server choice (d=1): 3.333333333333333\n",
            "Iteration 10 completed.\n"
          ]
        }
      ]
    },
    {
      "cell_type": "code",
      "source": [],
      "metadata": {
        "id": "fPsBe-kywsHc"
      },
      "execution_count": null,
      "outputs": []
    },
    {
      "source": [
        "import re\n",
        "import subprocess\n",
        "import matplotlib.pyplot as plt\n",
        "import csv\n",
        "\n",
        "# Run the command and capture the output\n",
        "process = subprocess.run(['python', 'queue_sim1.py', '--lambd', '0.7', '--mu', '1', '--n', '10', '--d', '1', '--max-t', '100_000'], capture_output=True, text=True)\n",
        "output = process.stdout\n",
        "\n",
        "# Extract relevant data using regular expressions (adjust patterns as needed)\n",
        "avg_time_match = re.search(r\"Average time spent in the system: (\\d+\\.\\d+)\", output)\n",
        "theoretical_time_match = re.search(r\"Theoretical expectation.*: (\\d+\\.\\d+)\", output)\n",
        "\n",
        "if avg_time_match and theoretical_time_match:\n",
        "    avg_time = float(avg_time_match.group(1))\n",
        "    theoretical_time = float(theoretical_time_match.group(1))\n",
        "\n",
        "    # Save results to CSV file\n",
        "    with open('simulation_results.csv', 'w', newline='') as csvfile:\n",
        "        writer = csv.writer(csvfile)\n",
        "        writer.writerow(['Type', 'Average Time'])\n",
        "        writer.writerow(['Simulated', avg_time])\n",
        "        writer.writerow(['Theoretical', theoretical_time])\n",
        "\n",
        "    # Print contents of CSV file\n",
        "    with open('simulation_results.csv', 'r') as csvfile:\n",
        "        reader = csv.reader(csvfile)\n",
        "        for row in reader:\n",
        "            print(row)\n",
        "else:\n",
        "    print(\"Could not extract data from the output.\")"
      ],
      "cell_type": "code",
      "metadata": {
        "id": "9FiHimAjwt_f",
        "outputId": "b36a2430-5de7-4e99-ab49-e3a811b50946",
        "colab": {
          "base_uri": "https://localhost:8080/"
        }
      },
      "execution_count": null,
      "outputs": [
        {
          "output_type": "stream",
          "name": "stdout",
          "text": [
            "['Type', 'Average Time']\n",
            "['Simulated', '3.3189949266927448']\n",
            "['Theoretical', '3.333333333333333']\n"
          ]
        }
      ]
    },
    {
      "cell_type": "code",
      "source": [
        "# prompt: to plot the above from the csv\n",
        "\n",
        "import matplotlib.pyplot as plt\n",
        "import csv\n",
        "\n",
        "# Assuming 'simulation_results.csv' exists and has the data\n",
        "try:\n",
        "    with open('simulation_results.csv', 'r') as csvfile:\n",
        "        reader = csv.reader(csvfile)\n",
        "        next(reader)  # Skip header row\n",
        "        data = list(reader)\n",
        "\n",
        "    types = [row[0] for row in data]\n",
        "    avg_times = [float(row[1]) for row in data]\n",
        "\n",
        "    plt.bar(types, avg_times)\n",
        "    plt.ylabel('Average Time in System')\n",
        "    plt.title('Simulated vs Theoretical Average Times')\n",
        "    plt.show()\n",
        "\n",
        "except FileNotFoundError:\n",
        "    print(\"Error: 'simulation_results.csv' not found. Please run the simulation first.\")\n",
        "except Exception as e:\n",
        "    print(f\"An error occurred: {e}\")"
      ],
      "metadata": {
        "id": "ttA7niF_xCWm",
        "outputId": "7e5eff49-c324-434c-b00d-a96aa642f6fd",
        "colab": {
          "base_uri": "https://localhost:8080/",
          "height": 452
        }
      },
      "execution_count": null,
      "outputs": [
        {
          "output_type": "display_data",
          "data": {
            "text/plain": [
              "<Figure size 640x480 with 1 Axes>"
            ],
            "image/png": "[encoded data removed]"
          },
          "metadata": {}
        }
      ]
    }
  ]
}