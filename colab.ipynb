{
  "nbformat": 4,
  "nbformat_minor": 0,
  "metadata": {
    "colab": {
      "provenance": [],
      "authorship_tag": "ABX9TyNO7qB54zFAAveLxM2dgBk+",
      "include_colab_link": true
    },
    "kernelspec": {
      "name": "python3",
      "display_name": "Python 3"
    },
    "language_info": {
      "name": "python"
    }
  },
  "cells": [
    {
      "cell_type": "markdown",
      "metadata": {
        "id": "view-in-github",
        "colab_type": "text"
      },
      "source": [
        "<a href=\"https://colab.research.google.com/github/jalilrohi1/QueueSimAssignment/blob/main/colab.ipynb\" target=\"_parent\"><img src=\"https://colab.research.google.com/assets/colab-badge.svg\" alt=\"Open In Colab\"/></a>"
      ]
    },
    {
      "cell_type": "code",
      "source": [
        "!git clone https://github.com/jalilrohi1/QueueSimAssignment.git\n"
      ],
      "metadata": {
        "colab": {
          "base_uri": "https://localhost:8080/"
        },
        "id": "ZF12TAv21f41",
        "outputId": "643d6c95-c545-4995-d23a-d72437d912be"
      },
      "execution_count": 3,
      "outputs": [
        {
          "output_type": "stream",
          "name": "stdout",
          "text": [
            "Cloning into 'QueueSimAssignment'...\n",
            "remote: Enumerating objects: 33, done.\u001b[K\n",
            "remote: Counting objects: 100% (33/33), done.\u001b[K\n",
            "remote: Compressing objects: 100% (23/23), done.\u001b[K\n",
            "remote: Total 33 (delta 12), reused 27 (delta 9), pack-reused 0 (from 0)\u001b[K\n",
            "Receiving objects: 100% (33/33), 228.05 KiB | 5.07 MiB/s, done.\n",
            "Resolving deltas: 100% (12/12), done.\n"
          ]
        }
      ]
    },
    {
      "cell_type": "code",
      "source": [
        "%cd /content/QueueSimAssignment\n",
        "!ls"
      ],
      "metadata": {
        "colab": {
          "base_uri": "https://localhost:8080/"
        },
        "id": "hps8MUs14tKv",
        "outputId": "3c2db888-1aab-4f71-aec5-faad2a1a032d"
      },
      "execution_count": 4,
      "outputs": [
        {
          "output_type": "stream",
          "name": "stdout",
          "text": [
            "/content/QueueSimAssignment\n",
            "colab.ipynb\t       Figure_2.png\t plot_queue_w.py\t queue_plot.sh\ttheoreticalQL.png\n",
            "discrete_event_sim.py  generate_data.py  plot_theoretical_ql.py  queue_sim.py\tworkloads.py\n",
            "Figure_1.png\t       lightexample.py\t queue_experiments.sh\t sir.py\n"
          ]
        }
      ]
    },
    {
      "cell_type": "code",
      "source": [],
      "metadata": {
        "id": "_lmwwMCb5BfC"
      },
      "execution_count": null,
      "outputs": []
    }
  ]
}